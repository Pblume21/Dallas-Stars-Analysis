{
 "cells": [
  {
   "cell_type": "code",
   "execution_count": null,
   "id": "fd657632-7efd-440c-ab7b-1808f9e9c4f4",
   "metadata": {},
   "outputs": [],
   "source": [
    "import pandas as pd    \n",
    "import numpy as np     \n",
    "\n",
    "df_original = pd.read_csv(\"DAL.csv\")  #Reading the dataset into a dataframe using Pandas\n",
    "print(df_original.shape)               # Should give us a good idea what the dataset looks like\n",
    "df_original.head()                     # looking at the top rows to make sure everything is in order"
   ]
  },
  {
   "cell_type": "code",
   "execution_count": null,
   "id": "cdf20523-e468-4f6e-b218-3e4c0bc7295d",
   "metadata": {},
   "outputs": [],
   "source": [
    "# From previous we can see that there are 110 columns. Let us cut it down to only a few to be analysed\n",
    "analyzed_col =['season','gameId', 'goalsFor', 'goalsAgainst', 'shotAttemptsFor', 'shotAttemptsAgainst']\n",
    "# The data is split into multiple periods per game but I want to only analyse the data per game\n",
    "# To accomplish that we'll use the groupby and sum functions\n",
    "# Finally we want to feed it into a new data frame that we can then manipulate later\n",
    "games_df = df_original[analyzed_col].groupby(['season','gameId']).sum().reset_index()   \n",
    "games_df.head(10)"
   ]
  },
  {
   "cell_type": "code",
   "execution_count": null,
   "id": "ac7973f9-bbe8-43ea-9847-72fe3e1c81cb",
   "metadata": {},
   "outputs": [],
   "source": [
    "# Checking my work by looking up these games I noticed that the goals count is doubted both For and Against\n",
    "# This seems to be a problem with the data since it holds true for the 10 games I checked.\n",
    "games_df['goalsFor'] = games_df['goalsFor'] /2             #A Simple solution to clean up the data\n",
    "games_df['goalsAgainst'] = games_df['goalsAgainst'] /2\n",
    "games_df.head(10)"
   ]
  },
  {
   "cell_type": "code",
   "execution_count": null,
   "id": "dc95568f-197b-4273-85a9-fb355a92596e",
   "metadata": {},
   "outputs": [],
   "source": [
    "games_df[['goalsFor', 'goalsAgainst', 'shotAttemptsFor', 'shotAttemptsAgainst']].describe() #Get a summary of the data"
   ]
  },
  {
   "cell_type": "code",
   "execution_count": null,
   "id": "fba35f50-7cdf-47b9-8a69-a987892f7ea1",
   "metadata": {},
   "outputs": [],
   "source": [
    "games_df['goalsFor'].hist()"
   ]
  },
  {
   "cell_type": "code",
   "execution_count": null,
   "id": "5364a03c-df6b-44fa-8e63-07a60cd76b89",
   "metadata": {},
   "outputs": [],
   "source": [
    "games_df['goalsAgainst'].hist() #the gap in this histogram is caused by the bin size"
   ]
  },
  {
   "cell_type": "code",
   "execution_count": null,
   "id": "19f5df09-448a-4ce2-8789-36f73cd9bb9c",
   "metadata": {},
   "outputs": [],
   "source": [
    "games_df['goalsAgainst'].hist(bins=9) # The default bin size is 10, at 9 the gap dissapears"
   ]
  },
  {
   "cell_type": "code",
   "execution_count": null,
   "id": "0d255a1b-fde6-4b79-84f0-9c064cd921f1",
   "metadata": {},
   "outputs": [],
   "source": [
    "#The original data did not show who won ultimately won each game\n",
    "#However we have enough information to compute this ourselves\n",
    "\n",
    "#This function takes a difference in goals and returns a string of either \"Won\",\"Lost\" or \"Draw\"\n",
    "def calc_match_result(delta_goals):\n",
    "    match_result = \"Won\" if delta_goals > 0 else \"Lost\" if delta_goals < 0 else \"Draw\"\n",
    "    return match_result\n",
    "\n",
    "\n",
    "games_df['matchResult'] = (          #First we are creating an entry for each game that stores the difference in point total\n",
    "    games_df['goalsFor']\n",
    "    - games_df['goalsAgainst']\n",
    ")\n",
    "games_df['matchResult'] = [          #Then taking advantage of list comprehension we move through every entry and deploy our function\n",
    "    calc_match_result(delta_goals) for delta_goals in games_df['matchResult']   \n",
    "]\n",
    "\n",
    "games_df.head()"
   ]
  },
  {
   "cell_type": "code",
   "execution_count": null,
   "id": "5ab6238b-58a5-4c4d-8ce6-69ac2f57d85b",
   "metadata": {},
   "outputs": [],
   "source": [
    "#Now that we have the match results lets look at how the team did each season\n",
    "\n",
    "season_df = games_df[               #A newdataframe excluding gameId and grouped by season\n",
    "['season', 'goalsFor', 'goalsAgainst', 'shotAttemptsFor', 'shotAttemptsAgainst', 'matchResult']\n",
    "].groupby(['season']).sum().reset_index()\n",
    "\n",
    "season_df"
   ]
  },
  {
   "cell_type": "code",
   "execution_count": null,
   "id": "dabf4d6c-3893-4444-b1f5-39f9bf3fc867",
   "metadata": {},
   "outputs": [],
   "source": [
    "# We don't really want the match results in that form. Instead I'd like them as a win percentage\n",
    "# To get this we will need to go back to the games data frame\n",
    "\n",
    "# This will get us the counts of all the wins, losses, and draws and organize them by season.\n",
    "# Furthermore sort turned off will give up the values in the same order for every season.\n",
    "# while normalizing will give us it as a percentage which will be useful for the next steps\n",
    "season_results = games_df[['season','matchResult']].groupby(['season']).value_counts(sort=False,normalize=True)\n",
    "\n",
    "season_results"
   ]
  },
  {
   "cell_type": "code",
   "execution_count": null,
   "id": "b0faedc7-7023-47b0-ac7d-dad119b98100",
   "metadata": {},
   "outputs": [],
   "source": [
    "#We really only care about the far right values so we will separate them off into an array\n",
    "results_array= season_results.array"
   ]
  },
  {
   "cell_type": "code",
   "execution_count": null,
   "id": "8e416408-d211-42c3-b57c-f98ec8cb6f1c",
   "metadata": {},
   "outputs": [],
   "source": [
    "# We are once again interested mostly in the far right values\n",
    "\n",
    "#Calculates all the indices that corresponde to \"Win\" and puts them into a List\n",
    "def index_filler():\n",
    "    for n in range(0,17):\n",
    "         i=n*3+2\n",
    "         results_index.append(i)\n",
    "\n",
    "def win_percent(index):\n",
    "    return results_array[index]\n",
    "    \n",
    "results_index=[]\n",
    "index_filler()\n",
    "\n",
    "\n",
    "\n",
    "season_df['matchResult'] = [\n",
    "    win_percent(index) * 100 for index in results_index\n",
    "] \n",
    "season_df.rename(columns ={'matchResult':'winPercent'}, inplace=True)\n",
    "season_df"
   ]
  }
 ],
 "metadata": {
  "kernelspec": {
   "display_name": "Python 3 (ipykernel)",
   "language": "python",
   "name": "python3"
  },
  "language_info": {
   "codemirror_mode": {
    "name": "ipython",
    "version": 3
   },
   "file_extension": ".py",
   "mimetype": "text/x-python",
   "name": "python",
   "nbconvert_exporter": "python",
   "pygments_lexer": "ipython3",
   "version": "3.9.21"
  }
 },
 "nbformat": 4,
 "nbformat_minor": 5
}
